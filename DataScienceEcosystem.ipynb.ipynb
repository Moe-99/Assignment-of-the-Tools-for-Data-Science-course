{
 "cells": [
  {
   "cell_type": "markdown",
   "id": "a299f965-6c5b-4e7e-a6d1-5c744b52ea0d",
   "metadata": {},
   "source": [
    "# Data Science Tools and Ecosystem"
   ]
  },
  {
   "cell_type": "code",
   "execution_count": null,
   "id": "b6f30fd5-f90f-47e9-bd6f-bc1b50c67e05",
   "metadata": {},
   "outputs": [],
   "source": []
  },
  {
   "cell_type": "markdown",
   "id": "8d02e292-5883-42ee-b56a-f1dcf895fc8c",
   "metadata": {},
   "source": [
    "In this notebook, Data Science Tools and Ecosystem are summarized."
   ]
  },
  {
   "cell_type": "markdown",
   "id": "15080ee7-268f-4a82-b986-e095fba52324",
   "metadata": {},
   "source": [
    "In this notebook, Data Science Tools and Ecosystem are summarized."
   ]
  },
  {
   "cell_type": "markdown",
   "id": "b33d9ced-7214-4d6e-ac2a-cd4b6f4034b4",
   "metadata": {},
   "source": [
    "Some of the popular languages that Data Scientists use are:  \n",
    "1. Python  \n",
    "2. R  \n",
    "3. SQL "
   ]
  },
  {
   "cell_type": "markdown",
   "id": "7a8707f0-e0f1-430a-ab84-7b3d3fafa5c8",
   "metadata": {},
   "source": [
    "Some of the commonly used libraries used by Data Scientists include:  \n",
    "1. Pandas  \n",
    "2. NumPy  \n",
    "3. Scikit-learn "
   ]
  },
  {
   "cell_type": "markdown",
   "id": "4d2a8020-8138-4ea7-8ec6-f7177639a91d",
   "metadata": {},
   "source": [
    "| Data Science Tools |  \n",
    "|-------------------|  \n",
    "| Jupyter Notebook |  \n",
    "| RStudio |  \n",
    "| Apache Zeppelin |  "
   ]
  },
  {
   "cell_type": "markdown",
   "id": "6ef39a5c-beb0-4a80-a7be-00570805454c",
   "metadata": {},
   "source": [
    "### Below are a few examples of evaluating arithmetic expressions in Python."
   ]
  },
  {
   "cell_type": "code",
   "execution_count": 1,
   "id": "793f3ab1-5e1e-46fe-b338-8a98117a46ef",
   "metadata": {},
   "outputs": [
    {
     "data": {
      "text/plain": [
       "17"
      ]
     },
     "execution_count": 1,
     "metadata": {},
     "output_type": "execute_result"
    }
   ],
   "source": [
    "# This is a simple arithmetic expression to multiply then add integers\n",
    "(3 * 4) + 5"
   ]
  },
  {
   "cell_type": "code",
   "execution_count": 2,
   "id": "81a03798-1100-4d3a-8dfc-e4feb84ad882",
   "metadata": {},
   "outputs": [
    {
     "data": {
      "text/plain": [
       "3.3333333333333335"
      ]
     },
     "execution_count": 2,
     "metadata": {},
     "output_type": "execute_result"
    }
   ],
   "source": [
    "# This will convert 200 minutes to hours by dividing by 60\n",
    "200 / 60"
   ]
  },
  {
   "cell_type": "markdown",
   "id": "ce016ec8-2adc-4575-8d58-0d11433c6425",
   "metadata": {},
   "source": [
    "**Objectives:**  \n",
    "- List popular languages for Data Science  \n",
    "- Introduce common Data Science libraries  \n",
    "- Demonstrate arithmetic expressions in Python  \n",
    "- Provide an overview of Data Science tools  "
   ]
  },
  {
   "cell_type": "markdown",
   "id": "763436d9-c078-4394-897f-f2cd4787c5d7",
   "metadata": {},
   "source": [
    "## Author  \n",
    "Your Name "
   ]
  },
  {
   "cell_type": "code",
   "execution_count": null,
   "id": "f286e0fc-3b04-449a-a12a-54f482ab4ad5",
   "metadata": {},
   "outputs": [],
   "source": []
  }
 ],
 "metadata": {
  "kernelspec": {
   "display_name": "Python 3 (ipykernel)",
   "language": "python",
   "name": "python3"
  },
  "language_info": {
   "codemirror_mode": {
    "name": "ipython",
    "version": 3
   },
   "file_extension": ".py",
   "mimetype": "text/x-python",
   "name": "python",
   "nbconvert_exporter": "python",
   "pygments_lexer": "ipython3",
   "version": "3.12.7"
  }
 },
 "nbformat": 4,
 "nbformat_minor": 5
}
